{
  "nbformat": 4,
  "nbformat_minor": 0,
  "metadata": {
    "colab": {
      "provenance": []
    },
    "kernelspec": {
      "name": "python3",
      "display_name": "Python 3"
    },
    "language_info": {
      "name": "python"
    }
  },
  "cells": [
    {
      "cell_type": "markdown",
      "source": [
        "# **Super Mart**\n",
        "# Customer Details\n"
      ],
      "metadata": {
        "id": "PN9HylVjjV7B"
      }
    },
    {
      "cell_type": "code",
      "execution_count": null,
      "metadata": {
        "colab": {
          "base_uri": "https://localhost:8080/"
        },
        "collapsed": true,
        "id": "ZmkTnMiFTFV7",
        "outputId": "78aa0d39-7188-4db3-b42b-a28e0aa54e2b"
      },
      "outputs": [
        {
          "output_type": "stream",
          "name": "stdout",
          "text": [
            "Enter your name :mohit joshi\n",
            "\n",
            " \n",
            "Enter your contact number: 1234567890\n",
            "\n",
            " \n",
            "Enter your Gmail:mj@gmail.com\n",
            "\n",
            " \n",
            "------------------------------------------------------------\n",
            "Name: Mohit Joshi\n",
            "Contact No. 1234567890\n",
            "Mail: mj@gmail.com\n",
            "------------------------------------------------------------\n"
          ]
        }
      ],
      "source": [
        "#super mart\n",
        "\n",
        "\n",
        "#user information\n",
        "\n",
        "name = input(\"Enter your name :\")\n",
        "\n",
        "print(\"\\n \")\n",
        "\n",
        "# for contact information\n",
        "while True:\n",
        "  num =input(\"Enter your contact number: \")\n",
        "  if len(num) == 10 and num.isdigit():\n",
        "    break\n",
        "  else:\n",
        "    print('Invalid ! Enter the number again.')\n",
        "\n",
        "print(\"\\n \")\n",
        "\n",
        "#for gamil\n",
        "while True:\n",
        "  mail=input('Enter your Gmail:')\n",
        "  if '@gmail.com' in mail:\n",
        "    break\n",
        "  else:\n",
        "    print('Invalid ! Enter the Gmail again.')\n",
        "\n",
        "\n",
        "print(\"\\n \")\n",
        "\n",
        "print(\"-\"*60)\n",
        "print (\"Name:\",name.title())\n",
        "print(\"Contact No.\",num)\n",
        "print(\"Mail:\",mail)\n",
        "print(\"-\"*60)"
      ]
    },
    {
      "cell_type": "markdown",
      "source": [
        "# **Items Details**"
      ],
      "metadata": {
        "id": "36E7JkgEjGFn"
      }
    },
    {
      "cell_type": "code",
      "source": [
        "items = []\n",
        "\n",
        "\n",
        "while True:\n",
        "  item =input(\"Enter your item name :\")\n",
        "  q_num = int(input(\"Quantity of item :\")) # Read as string initially\n",
        "  #q_num = int(q_num_str) # Convert to integer\n",
        "  price = float(input(\"Enter price of item ₹ :\"))\n",
        "  items.append((item, q_num, price))\n",
        "\n",
        "  choice=input(\"Are  there 10 items?:(yes/no)\").lower()\n",
        "  if 'no' in choice:\n",
        "    break\n",
        "  elif 'yes' in choice:\n",
        "    continue\n",
        "  else:\n",
        "    print(\"invaild input\")\n",
        "    break\n",
        "\n",
        "print(\"\\n \")\n",
        "\n",
        "print(\"-\"*60)\n",
        "print(\"Final Shopping List!!\")\n",
        "\n",
        "print(f\"{'Serial No':<10} {'Item':<10} {'Price':<10} {'Quantity':<10}\")\n",
        "for i,(item,q_num,price) in enumerate(items,1):\n",
        "  print(f\"{i:<10}.{item:<10} ₹{price:<9.2f} {q_num:<10}\")\n",
        "print(\"-\"*60)"
      ],
      "metadata": {
        "colab": {
          "base_uri": "https://localhost:8080/"
        },
        "collapsed": true,
        "id": "76GT33GEjEt3",
        "outputId": "e08e9be4-bbaf-4071-8ebe-5f15a1b3734b"
      },
      "execution_count": null,
      "outputs": [
        {
          "output_type": "stream",
          "name": "stdout",
          "text": [
            "Enter your item name :pen\n",
            "Quantity of item :1\n",
            "Enter price of item ₹ :10\n",
            "Are  there 10 items?:(yes/no)no\n",
            "\n",
            " \n",
            "------------------------------------------------------------\n",
            "Final Shopping List!!\n",
            "Serial No  Item       Price      Quantity  \n",
            "1         .pen        ₹10.00     1         \n",
            "------------------------------------------------------------\n"
          ]
        }
      ]
    },
    {
      "cell_type": "markdown",
      "source": [],
      "metadata": {
        "id": "UwWhLr2FAOgi"
      }
    },
    {
      "cell_type": "markdown",
      "source": [
        "# For **Total Sum** **&** **Discount** (Will be added above 10 items of 20% if less then that there will no discount)  "
      ],
      "metadata": {
        "id": "Q4ENcRMP1T9B"
      }
    },
    {
      "cell_type": "code",
      "source": [
        "Grand_Total = 0\n",
        "\n",
        "for i,(item,q_num,price) in enumerate(items,1):\n",
        "  total = price * q_num\n",
        "  Grand_Total += total\n",
        "  print(f\"{i:<10}.{item:<10} ₹{price:<9.2f} {q_num:<10} ₹{total:<9.2f}\")\n",
        "\n",
        "  total_items = len(items)\n",
        "if total_items >= 10:\n",
        "  discounted = (20/100)*Grand_Total\n",
        "  discounted_total = Grand_Total - discounted\n",
        "  print(f\"\\n you got 20% dicount ₹{discounted:.2f}\")\n",
        "else:\n",
        "    print(f\"\\n:::-:::-:::-:::-No discount applied. Total: ₹{Grand_Total:.2f}\")\n",
        "\n",
        "\n",
        "print(f\"\\n{'-'*50}\")\n",
        "print(\"\")\n",
        "print(\"\")\n",
        "print(f\"{'':<31} Grand Total: ₹{Grand_Total:.2f}\")\n",
        "print(f\"\\n{'-'*50}\")"
      ],
      "metadata": {
        "colab": {
          "base_uri": "https://localhost:8080/"
        },
        "id": "fuJifz1K2SDg",
        "outputId": "2fd816e0-5e19-4e84-f204-a3ecb43987f3"
      },
      "execution_count": null,
      "outputs": [
        {
          "output_type": "stream",
          "name": "stdout",
          "text": [
            "1         .pen        ₹10.00     10         ₹100.00   \n",
            "\n",
            ":::-:::-:::-:::-No discount applied. Total: ₹100.00\n",
            "\n",
            "--------------------------------------------------\n",
            "\n",
            "\n",
            "                                Grand Total: ₹100.00\n",
            "\n",
            "--------------------------------------------------\n"
          ]
        }
      ]
    },
    {
      "cell_type": "code",
      "source": [],
      "metadata": {
        "id": "VbkyoKw13tqf"
      },
      "execution_count": null,
      "outputs": []
    }
  ]
}